{
 "cells": [
  {
   "cell_type": "markdown",
   "id": "6dec6a3b-ef76-43d9-ae30-a688344b2443",
   "metadata": {},
   "source": [
    "## Exploration of time/geo data using UK covid datasets and geojson local Authoirty boundaries\n",
    "\n",
    "### version 0.91\n",
    "\n",
    "\n",
    "# Please note, currently you have to run interact twice for each map to display \n",
    "\n",
    "todo: fix 'disappearing map' problem \n",
    "\n",
    "todo: use output widgets for map display\n",
    "\n",
    "todo: initial time based data exploration\n"
   ]
  },
  {
   "cell_type": "code",
   "execution_count": 39,
   "id": "23711da8-3e10-4b98-92a7-f39a1e82ce7d",
   "metadata": {},
   "outputs": [],
   "source": [
    "# imports \n",
    "from datetime import datetime, date\n",
    "import geopandas as gpd\n",
    "import pandas as pd\n",
    "\n",
    "from ipywidgets import interact, interactive, fixed, interact_manual\n",
    "import plotly.express as px\n",
    "import json\n",
    "import ipywidgets as widgets\n",
    "from ipywidgets import interact, interact_manual, interactive"
   ]
  },
  {
   "cell_type": "code",
   "execution_count": null,
   "id": "6f811380-ffc5-4d5e-a2c8-9f09b03dd3de",
   "metadata": {},
   "outputs": [],
   "source": [
    "# SET UP CONSTANTS\n",
    "from  pathlib import Path\n",
    "\n",
    "POP_DATA_PATH = Path('./data/ukpopulation2018.csv')\n",
    "COVID_DATA_PATH = Path('./data/utla_2023-01-05.csv')\n",
    "GEOJSON_PATH = Path(r'data/CTYUA_(Apr_2019)_Ultra_Generalised_Clipped_Boundaries_Great_Britain.geojson')\n",
    "AREA_CODE = 'areaCode'\n",
    "POP = 'pop'\n",
    "DEATHS_COL = 'cum_deaths'\n",
    "DEATH_100K = 'Deaths per 100k'\n",
    "VACC_100K = 'Vaccinated per 100k'\n",
    "VACC_COL = 'cum_vaccinated'\n",
    "FORM_DATE ='Formatted Date'\n",
    "MAP_TITLE = 'COVID 19 {map_title}, by Local Authority'\n",
    "COVID_DATA = pd.read_csv(COVID_DATA_PATH, header=0)\n",
    "PCT_VACC = '% vaccinated'"
   ]
  },
  {
   "cell_type": "code",
   "execution_count": 3,
   "id": "3bd5076d-1879-41c6-b3e1-cfe9b54e0bdb",
   "metadata": {},
   "outputs": [],
   "source": [
    "\n",
    "def load_and_clean_geo_data():\n",
    "    gdf = gpd.read_file(GEOJSON_PATH)\n",
    "    gdf.rename({'ctyua19cd': AREA_CODE}, axis=1, inplace=True)\n",
    "    gdf_reduced = gdf.drop(columns=[col for col in gdf.columns if col not in ['geometry', AREA_CODE]])\n",
    "    gdf_reduced.set_index('areaCode', inplace=True)\n",
    "    gdf_reduced_json = json.loads(gdf_reduced.to_json())\n",
    "    return gdf_reduced"
   ]
  },
  {
   "cell_type": "code",
   "execution_count": 52,
   "id": "7cbfa172-b315-4afe-8409-14938b88d957",
   "metadata": {},
   "outputs": [],
   "source": [
    " def clean_covid_data(df, start_date=pd.to_datetime('2020-02-01'), end_date=pd.to_datetime('2021-12-01')):\n",
    "        \n",
    "    start_date, end_date = map(pd.to_datetime, [start_date, end_date])\n",
    "    df.rename({'cumDeaths28DaysByDeathDate': 'cum_deaths', 'cumPeopleVaccinatedFirstDoseByVaccinationDate': 'cum_vaccinated'}, inplace=True, axis=1)\n",
    "    df['date_sorter'] = pd.to_datetime(df['date'])\n",
    "    df[FORM_DATE] =  df['date_sorter'].dt.strftime('%d/%m/%y')\n",
    "    return df[(df['date_sorter'] >= start_date) & (df['date_sorter'] <= end_date)]\n"
   ]
  },
  {
   "cell_type": "code",
   "execution_count": 12,
   "id": "7ae8c1c5-e3e9-4011-9ff1-41ef4976e0ab",
   "metadata": {},
   "outputs": [],
   "source": [
    "def aggregate_covid_data(cv_data, time_compression='W', ) -> pd.DataFrame:\n",
    "    if time_compression in ['W', 'M', 'Q']:\n",
    "        # print(f'time compression {time_compression}')\n",
    "        cv_data = cv_data.groupby(AREA_CODE).resample(time_compression, on='date_sorter').min().droplevel(AREA_CODE).reset_index()\n",
    "        cv_data = cv_data.sort_values(by='date_sorter').assign(date = cv_data['date_sorter'].dt.strftime('%d%m%Y')).drop(columns='date_sorter')\n",
    "        cv_data= cv_data.reset_index(drop=True).fillna(0)\n",
    "        cv_data = cv_data\n",
    "    else:    \n",
    "        print('no time compression selected - expect delayed response times !')\n",
    "        \n",
    "        cv_data = cv_data.sort_values('date_sorter').drop(columns='date_sorter').reset_index(drop=True).fillna(0)\n",
    "    \n",
    "    return cv_data"
   ]
  },
  {
   "cell_type": "code",
   "execution_count": 6,
   "id": "f0114649-aa83-4ca5-9438-dd6a807cecb1",
   "metadata": {},
   "outputs": [],
   "source": [
    "def clean_pop_data(df):\n",
    "    df = df.drop(columns=[col for col in df.columns if col not in ['Code', 'All Ages']]).rename(columns={'Code':AREA_CODE, 'All Ages': POP})\n",
    "    return df"
   ]
  },
  {
   "cell_type": "code",
   "execution_count": 7,
   "id": "01de9f01-f5dd-42a7-88f7-b41719a1f46f",
   "metadata": {},
   "outputs": [],
   "source": [
    "def add_population_data(df):\n",
    "    pop_data = pd.read_csv(POP_DATA_PATH, header=0).pipe(clean_pop_data)\n",
    "    pop_data = pop_data.set_index(AREA_CODE)\n",
    "    df = df.join(pop_data, on=AREA_CODE, how='left')\n",
    "    df[DEATH_100K] = (df[DEATHS_COL] / df[POP]) * 1E5\n",
    "    df[VACC_100K] = (df[VACC_COL] / df[POP]) * 1E5\n",
    "    df[PCT_VACC] = df[VACC_COL] / df[POP]\n",
    "    \n",
    "    return df\n",
    "    "
   ]
  },
  {
   "cell_type": "code",
   "execution_count": 8,
   "id": "a7cb40d8-a2f3-488a-8021-c85ff7045d45",
   "metadata": {},
   "outputs": [],
   "source": [
    "cv_data = clean_covid_data(COVID_DATA).pipe(add_population_data)"
   ]
  },
  {
   "cell_type": "code",
   "execution_count": 9,
   "id": "86ae221f-4834-484d-9c58-f5903ddf4c12",
   "metadata": {},
   "outputs": [],
   "source": [
    "import ipywidgets as widgets\n",
    "from ipywidgets import interact, interact_manual, interactive\n",
    "\n",
    "granularity = widgets.Dropdown(\n",
    "    options=[('by month', 'M'), ('by week', 'W'), ('by quarter', 'Q')],\n",
    "    value='M',\n",
    "    description='Granularity',\n",
    "    disabled=False,\n",
    ")\n"
   ]
  },
  {
   "cell_type": "code",
   "execution_count": 10,
   "id": "de8d2f4f-4311-4495-93c9-db510d412a11",
   "metadata": {},
   "outputs": [],
   "source": [
    "def acquire_data(covid_data, time_compression, start_date: datetime, end_date:datetime)-> pd.DataFrame:\n",
    "\n",
    "    # clean and aggreate covid data\n",
    "    covid_data = clean_covid_data(covid_data, start_date=start_date, end_date=end_date)\n",
    "    covid_data = aggregate_covid_data(covid_data, time_compression=time_compression)\n",
    "    covid_data = add_population_data(covid_data)\n",
    "    # get population data \n",
    "    pop_data = clean_pop_data(pd.read_csv(POP_DATA_PATH, header=0))\n",
    "    pop_data = pop_data.set_index(AREA_CODE)\n",
    "    \n",
    "    return covid_data\n",
    "\n"
   ]
  },
  {
   "cell_type": "code",
   "execution_count": 55,
   "id": "24b830ed-a227-494b-a398-64027fa40000",
   "metadata": {},
   "outputs": [
    {
     "data": {
      "application/vnd.jupyter.widget-view+json": {
       "model_id": "36d28cfea2fa40f491880a61db5948f2",
       "version_major": 2,
       "version_minor": 0
      },
      "text/plain": [
       "interactive(children=(Dropdown(description='col_to_plot', options=('Vaccinated per 100k', 'Deaths per 100k', '…"
      ]
     },
     "metadata": {},
     "output_type": "display_data"
    }
   ],
   "source": [
    "@interact_manual\n",
    "def plot_map(col_to_plot=[VACC_100K, DEATH_100K, PCT_VACC],\n",
    "             start_date=widgets.DatePicker(value=date(2020, 1, 1)), \n",
    "             end_date=widgets.DatePicker(value=date(2022, 12, 31)),\n",
    "             granularity = widgets.Dropdown(\n",
    "                                            options=[('by month', 'M'), ('by week', 'W'), ('by quarter', 'Q')],\n",
    "                                            value='M',\n",
    "                                            description='Granularity',\n",
    "                                            disabled=False,\n",
    "                                        )\n",
    "\n",
    "            ):\n",
    "                                                                                \n",
    "    cv_data = COVID_DATA.copy()\n",
    "    cv_data = acquire_data(cv_data, time_compression=granularity, start_date=start_date, end_date=end_date)\n",
    "    geo_data = load_and_clean_geo_data()\n",
    "    range_bar_scale =  cv_data[col_to_plot].max()\n",
    "    fig = px.choropleth_mapbox(data_frame=cv_data,\n",
    "                               geojson=geo_data,\n",
    "                               locations=cv_data[AREA_CODE],\n",
    "                               color=col_to_plot,\n",
    "                               # center={\"lon\": -1.88141, \"lat\": 52.484039},  # Brum\n",
    "                               # featureidkey='properties.ctyua19cd',\n",
    "                               zoom=5,\n",
    "                               color_continuous_scale='RdBu',\n",
    "                               range_color=(0.50, range_bar_scale),\n",
    "                               animation_frame='date',\n",
    "                               hover_name=\"areaName\",\n",
    "                               hover_data={'date': False, FORM_DATE:True,  POP: True, col_to_plot: True, 'areaCode': False},\n",
    "                               labels={POP: 'Population 2018',  FORM_DATE: 'Week beginning'},\n",
    "                               width=800,\n",
    "                               height=1300,\n",
    "                               title=MAP_TITLE.format(map_title=col_to_plot),\n",
    "                              )\n",
    "    fig.update_layout(mapbox_style=\"carto-positron\")\n",
    "    # fig.update_layout(margin={\"r\": 0, \"t\": 20, \"l\": 0, \"b\": 0})\n",
    "    fig.update_layout(mapbox_bounds={\"west\": -8, \"east\": 2, \"south\": 49, \"north\": 61})\n",
    "    fig.update_geos(fitbounds=\"locations\")\n",
    "    # fig_url = fig.write_html('covid_deaths_series.html')\n",
    "    fig.show()"
   ]
  }
 ],
 "metadata": {
  "kernelspec": {
   "display_name": "Python 3 (ipykernel)",
   "language": "python",
   "name": "python3"
  },
  "language_info": {
   "codemirror_mode": {
    "name": "ipython",
    "version": 3
   },
   "file_extension": ".py",
   "mimetype": "text/x-python",
   "name": "python",
   "nbconvert_exporter": "python",
   "pygments_lexer": "ipython3",
   "version": "3.9.10"
  }
 },
 "nbformat": 4,
 "nbformat_minor": 5
}
