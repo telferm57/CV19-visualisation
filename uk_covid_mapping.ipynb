{
 "cells": [
  {
   "cell_type": "code",
   "execution_count": 1,
   "id": "6f811380-ffc5-4d5e-a2c8-9f09b03dd3de",
   "metadata": {},
   "outputs": [],
   "source": [
    "# SET UP CONSTANTS\n",
    "from  pathlib import Path\n",
    "\n",
    "POP_DATA_PATH = Path('./data/ukpopulation2018.csv')\n",
    "COVID_DATA_PATH = Path('./data/utla_2023-01-05.csv')\n",
    "GEOJSON_PATH = Path(r'data/CTYUA_(Apr_2019)_Ultra_Generalised_Clipped_Boundaries_Great_Britain.geojson')\n",
    "AREA_CODE = 'areaCode'\n",
    "POP = 'pop'\n",
    "DEATHS_COL = 'cum_deaths'\n",
    "DEATH_100K = 'Deaths per 100k'\n",
    "FORM_DATE ='Formatted Date'\n",
    "MAP_TITLE = 'COVID 19 Deaths 28 Days After Positive Test, by Local Authority'"
   ]
  },
  {
   "cell_type": "code",
   "execution_count": 2,
   "id": "3bd5076d-1879-41c6-b3e1-cfe9b54e0bdb",
   "metadata": {},
   "outputs": [],
   "source": [
    "import geopandas as gpd\n",
    "import pandas as pd\n",
    "gdf = gpd.read_file(GEOJSON_PATH)\n",
    "gdf.rename({'ctyua19cd': 'areaCode'}, axis=1, inplace=True)\n",
    "gdf_reduced = gdf.drop(columns=[col for col in gdf.columns if col not in ['geometry', AREA_CODE]])"
   ]
  },
  {
   "cell_type": "code",
   "execution_count": 9,
   "id": "7ae8c1c5-e3e9-4011-9ff1-41ef4976e0ab",
   "metadata": {},
   "outputs": [],
   "source": [
    "def reload_covid_data(time_compression='W', end_date=None) -> pd.DataFrame:\n",
    "    covid_data = pd.read_csv(COVID_DATA_PATH, header=0)\n",
    "    covid_data.rename({'cumDeaths28DaysByDeathDate': 'cum_deaths', 'cumPeopleVaccinatedFirstDoseByVaccinationDate': 'cum_vaccinated'}, inplace=True, axis=1)\n",
    "    covid_data['date_sorter'] = pd.to_datetime(covid_data['date'])\n",
    "    if end_date:\n",
    "        covid_data = covid_data[covid_data['date_sorter'] <= end_date]\n",
    "    covid_data[FORM_DATE] =  covid_data['date_sorter'].dt.strftime('%d/%m/%y')\n",
    "    if time_compression in ['W', 'M']:\n",
    "        covid_data = covid_data.groupby(AREA_CODE).resample(time_compression, on='date_sorter').min().droplevel(AREA_CODE).reset_index()\n",
    "        covid_data = covid_data.sort_values(by='date_sorter').assign(date = covid_data['date_sorter'].dt.strftime('%d%m%Y')).drop(columns='date_sorter')\n",
    "        covid_data= covid_data.reset_index(drop=True).fillna(0)\n",
    "    else:    \n",
    "        covid_data = covid_data.sort_values('date_sorter').drop(columns='date_sorter').reset_index(drop=True).fillna(0)\n",
    "    \n",
    "    return covid_data"
   ]
  },
  {
   "cell_type": "code",
   "execution_count": 4,
   "id": "f0114649-aa83-4ca5-9438-dd6a807cecb1",
   "metadata": {},
   "outputs": [],
   "source": [
    "def pop_data_clean(df):\n",
    "    df = df.drop(columns=[col for col in df.columns if col not in ['Code', 'All Ages']]).rename(columns={'Code':AREA_CODE, 'All Ages': POP})\n",
    "    print(df.columns)\n",
    "    return df"
   ]
  },
  {
   "cell_type": "code",
   "execution_count": 5,
   "id": "fb417c82-5d15-4f4d-9732-286e13eecbe0",
   "metadata": {},
   "outputs": [],
   "source": [
    "import json\n",
    "gdf_reduced.set_index('areaCode', inplace=True)\n",
    "gdf_reduced_json = json.loads(gdf_reduced.to_json())"
   ]
  },
  {
   "cell_type": "code",
   "execution_count": 6,
   "id": "2bfca0c0-337d-42fe-89f0-ddf626b9d149",
   "metadata": {},
   "outputs": [
    {
     "name": "stdout",
     "output_type": "stream",
     "text": [
      "Index(['areaCode', 'pop'], dtype='object')\n"
     ]
    }
   ],
   "source": [
    "# join pop data to covid data \n",
    "covid_data = reload_covid_data()\n",
    "pop_data = pop_data_clean(pd.read_csv(POP_DATA_PATH, header=0))\n",
    "pop_data = pop_data.set_index(AREA_CODE)\n",
    "\n",
    "covid_data = covid_data.join(pop_data, on=AREA_CODE, how='left')"
   ]
  },
  {
   "cell_type": "code",
   "execution_count": 10,
   "id": "de8d2f4f-4311-4495-93c9-db510d412a11",
   "metadata": {},
   "outputs": [
    {
     "name": "stdout",
     "output_type": "stream",
     "text": [
      "Index(['areaCode', 'pop'], dtype='object')\n"
     ]
    }
   ],
   "source": [
    "covid_data = reload_covid_data(time_compression='W', end_date=pd.to_datetime('2021-03-01'))\n",
    "pop_data = pop_data_clean(pd.read_csv(POP_DATA_PATH, header=0))\n",
    "pop_data = pop_data.set_index(AREA_CODE)\n",
    "covid_data = covid_data.join(pop_data, on=AREA_CODE, how='left')\n",
    "covid_data[DEATH_100K] = (covid_data[DEATHS_COL] / covid_data[POP]) * 1E5\n",
    "\n",
    "max_deaths = covid_data[DEATH_100K].max()"
   ]
  },
  {
   "cell_type": "code",
   "execution_count": null,
   "id": "24b830ed-a227-494b-a398-64027fa40000",
   "metadata": {},
   "outputs": [],
   "source": [
    "import plotly.express as px\n",
    "fig = px.choropleth_mapbox(data_frame=covid_data,\n",
    "                           geojson=gdf_reduced_json,\n",
    "                           locations=covid_data[AREA_CODE],\n",
    "                           color=DEATH_100K,\n",
    "                           # center={\"lon\": -1.88141, \"lat\": 52.484039},  # Brum\n",
    "                           # featureidkey='properties.ctyua19cd',\n",
    "                           zoom=5,\n",
    "                           color_continuous_scale='blues',\n",
    "                           range_color=(0, max_deaths),\n",
    "                           animation_frame='date',\n",
    "                           hover_name=\"areaName\",\n",
    "                           hover_data={'date': False, FORM_DATE:True,  POP: True, DEATH_100K: True, 'areaCode': False},\n",
    "                           labels={POP: 'Population 2018',  FORM_DATE: 'Week beginning'},\n",
    "                           width=800,\n",
    "                           height=1300,\n",
    "                           title=MAP_TITLE,\n",
    "                          )\n",
    "fig.update_layout(mapbox_style=\"carto-positron\")\n",
    "# fig.update_layout(margin={\"r\": 0, \"t\": 20, \"l\": 0, \"b\": 0})\n",
    "fig.update_layout(mapbox_bounds={\"west\": -8, \"east\": 2, \"south\": 49, \"north\": 61})\n",
    "fig.update_geos(fitbounds=\"locations\")\n",
    "fig_url = fig.write_html('covid_deaths_series.html')\n",
    "fig.show()"
   ]
  }
 ],
 "metadata": {
  "kernelspec": {
   "display_name": "Python 3 (ipykernel)",
   "language": "python",
   "name": "python3"
  },
  "language_info": {
   "codemirror_mode": {
    "name": "ipython",
    "version": 3
   },
   "file_extension": ".py",
   "mimetype": "text/x-python",
   "name": "python",
   "nbconvert_exporter": "python",
   "pygments_lexer": "ipython3",
   "version": "3.9.10"
  }
 },
 "nbformat": 4,
 "nbformat_minor": 5
}
